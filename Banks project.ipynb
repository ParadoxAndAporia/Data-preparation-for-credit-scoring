{
 "cells": [
  {
   "cell_type": "markdown",
   "id": "c81daeeb",
   "metadata": {
    "deletable": false,
    "id": "c81daeeb"
   },
   "source": [
    "# Исследование надежности заемщиков\n"
   ]
  },
  {
   "cell_type": "markdown",
   "id": "b64989d7",
   "metadata": {},
   "source": [
    "Заказчик — кредитный отдел банка. Нужно разобраться, влияет ли семейное положение и количество детей клиента на факт погашения кредита в срок. Входные данные от банка — статистика о платёжеспособности клиентов.\n",
    "Результаты исследования будут учтены при построении модели кредитного скоринга — специальной системы, которая оценивает способность потенциального заёмщика вернуть кредит банку.\n"
   ]
  },
  {
   "cell_type": "markdown",
   "id": "8be29701",
   "metadata": {},
   "source": [
    "## Описание данных\n",
    "\n",
    "- children — количество детей в семье\n",
    "- days_employed — общий трудовой стаж в днях\n",
    "- dob_years — возраст клиента в годах\n",
    "- education — уровень образования клиента\n",
    "- education_id — идентификатор уровня образования\n",
    "- family_status — семейное положение\n",
    "- family_status_id — идентификатор семейного положения\n",
    "- gender — пол клиента\n",
    "- income_type — тип занятости\n",
    "- debt — имел ли задолженность по возврату кредитов\n",
    "- total_income — ежемесячный доход\n",
    "- purpose — цель получения кредита"
   ]
  },
  {
   "cell_type": "code",
   "execution_count": 1,
   "id": "7bcf75c9",
   "metadata": {
    "deletable": false,
    "id": "7bcf75c9"
   },
   "outputs": [],
   "source": [
    "import pandas as pd\n",
    "\n",
    "try:\n",
    "    data = pd.read_csv('/datasets/data.csv')\n",
    "except:\n",
    "    data = pd.read_csv('https://code.s3.yandex.net/datasets/data.csv')"
   ]
  },
  {
   "cell_type": "code",
   "execution_count": 2,
   "id": "2a7cab99",
   "metadata": {
    "deletable": false,
    "id": "2a7cab99",
    "outputId": "1a8f3ef2-d323-4ec2-ddf7-89670b5944c4"
   },
   "outputs": [
    {
     "data": {
      "text/html": [
       "<div>\n",
       "<style scoped>\n",
       "    .dataframe tbody tr th:only-of-type {\n",
       "        vertical-align: middle;\n",
       "    }\n",
       "\n",
       "    .dataframe tbody tr th {\n",
       "        vertical-align: top;\n",
       "    }\n",
       "\n",
       "    .dataframe thead th {\n",
       "        text-align: right;\n",
       "    }\n",
       "</style>\n",
       "<table border=\"1\" class=\"dataframe\">\n",
       "  <thead>\n",
       "    <tr style=\"text-align: right;\">\n",
       "      <th></th>\n",
       "      <th>children</th>\n",
       "      <th>days_employed</th>\n",
       "      <th>dob_years</th>\n",
       "      <th>education</th>\n",
       "      <th>education_id</th>\n",
       "      <th>family_status</th>\n",
       "      <th>family_status_id</th>\n",
       "      <th>gender</th>\n",
       "      <th>income_type</th>\n",
       "      <th>debt</th>\n",
       "      <th>total_income</th>\n",
       "      <th>purpose</th>\n",
       "    </tr>\n",
       "  </thead>\n",
       "  <tbody>\n",
       "    <tr>\n",
       "      <th>0</th>\n",
       "      <td>1</td>\n",
       "      <td>-8437.673028</td>\n",
       "      <td>42</td>\n",
       "      <td>высшее</td>\n",
       "      <td>0</td>\n",
       "      <td>женат / замужем</td>\n",
       "      <td>0</td>\n",
       "      <td>F</td>\n",
       "      <td>сотрудник</td>\n",
       "      <td>0</td>\n",
       "      <td>253875.639453</td>\n",
       "      <td>покупка жилья</td>\n",
       "    </tr>\n",
       "    <tr>\n",
       "      <th>1</th>\n",
       "      <td>1</td>\n",
       "      <td>-4024.803754</td>\n",
       "      <td>36</td>\n",
       "      <td>среднее</td>\n",
       "      <td>1</td>\n",
       "      <td>женат / замужем</td>\n",
       "      <td>0</td>\n",
       "      <td>F</td>\n",
       "      <td>сотрудник</td>\n",
       "      <td>0</td>\n",
       "      <td>112080.014102</td>\n",
       "      <td>приобретение автомобиля</td>\n",
       "    </tr>\n",
       "    <tr>\n",
       "      <th>2</th>\n",
       "      <td>0</td>\n",
       "      <td>-5623.422610</td>\n",
       "      <td>33</td>\n",
       "      <td>Среднее</td>\n",
       "      <td>1</td>\n",
       "      <td>женат / замужем</td>\n",
       "      <td>0</td>\n",
       "      <td>M</td>\n",
       "      <td>сотрудник</td>\n",
       "      <td>0</td>\n",
       "      <td>145885.952297</td>\n",
       "      <td>покупка жилья</td>\n",
       "    </tr>\n",
       "    <tr>\n",
       "      <th>3</th>\n",
       "      <td>3</td>\n",
       "      <td>-4124.747207</td>\n",
       "      <td>32</td>\n",
       "      <td>среднее</td>\n",
       "      <td>1</td>\n",
       "      <td>женат / замужем</td>\n",
       "      <td>0</td>\n",
       "      <td>M</td>\n",
       "      <td>сотрудник</td>\n",
       "      <td>0</td>\n",
       "      <td>267628.550329</td>\n",
       "      <td>дополнительное образование</td>\n",
       "    </tr>\n",
       "    <tr>\n",
       "      <th>4</th>\n",
       "      <td>0</td>\n",
       "      <td>340266.072047</td>\n",
       "      <td>53</td>\n",
       "      <td>среднее</td>\n",
       "      <td>1</td>\n",
       "      <td>гражданский брак</td>\n",
       "      <td>1</td>\n",
       "      <td>F</td>\n",
       "      <td>пенсионер</td>\n",
       "      <td>0</td>\n",
       "      <td>158616.077870</td>\n",
       "      <td>сыграть свадьбу</td>\n",
       "    </tr>\n",
       "    <tr>\n",
       "      <th>5</th>\n",
       "      <td>0</td>\n",
       "      <td>-926.185831</td>\n",
       "      <td>27</td>\n",
       "      <td>высшее</td>\n",
       "      <td>0</td>\n",
       "      <td>гражданский брак</td>\n",
       "      <td>1</td>\n",
       "      <td>M</td>\n",
       "      <td>компаньон</td>\n",
       "      <td>0</td>\n",
       "      <td>255763.565419</td>\n",
       "      <td>покупка жилья</td>\n",
       "    </tr>\n",
       "    <tr>\n",
       "      <th>6</th>\n",
       "      <td>0</td>\n",
       "      <td>-2879.202052</td>\n",
       "      <td>43</td>\n",
       "      <td>высшее</td>\n",
       "      <td>0</td>\n",
       "      <td>женат / замужем</td>\n",
       "      <td>0</td>\n",
       "      <td>F</td>\n",
       "      <td>компаньон</td>\n",
       "      <td>0</td>\n",
       "      <td>240525.971920</td>\n",
       "      <td>операции с жильем</td>\n",
       "    </tr>\n",
       "    <tr>\n",
       "      <th>7</th>\n",
       "      <td>0</td>\n",
       "      <td>-152.779569</td>\n",
       "      <td>50</td>\n",
       "      <td>СРЕДНЕЕ</td>\n",
       "      <td>1</td>\n",
       "      <td>женат / замужем</td>\n",
       "      <td>0</td>\n",
       "      <td>M</td>\n",
       "      <td>сотрудник</td>\n",
       "      <td>0</td>\n",
       "      <td>135823.934197</td>\n",
       "      <td>образование</td>\n",
       "    </tr>\n",
       "    <tr>\n",
       "      <th>8</th>\n",
       "      <td>2</td>\n",
       "      <td>-6929.865299</td>\n",
       "      <td>35</td>\n",
       "      <td>ВЫСШЕЕ</td>\n",
       "      <td>0</td>\n",
       "      <td>гражданский брак</td>\n",
       "      <td>1</td>\n",
       "      <td>F</td>\n",
       "      <td>сотрудник</td>\n",
       "      <td>0</td>\n",
       "      <td>95856.832424</td>\n",
       "      <td>на проведение свадьбы</td>\n",
       "    </tr>\n",
       "    <tr>\n",
       "      <th>9</th>\n",
       "      <td>0</td>\n",
       "      <td>-2188.756445</td>\n",
       "      <td>41</td>\n",
       "      <td>среднее</td>\n",
       "      <td>1</td>\n",
       "      <td>женат / замужем</td>\n",
       "      <td>0</td>\n",
       "      <td>M</td>\n",
       "      <td>сотрудник</td>\n",
       "      <td>0</td>\n",
       "      <td>144425.938277</td>\n",
       "      <td>покупка жилья для семьи</td>\n",
       "    </tr>\n",
       "    <tr>\n",
       "      <th>10</th>\n",
       "      <td>2</td>\n",
       "      <td>-4171.483647</td>\n",
       "      <td>36</td>\n",
       "      <td>высшее</td>\n",
       "      <td>0</td>\n",
       "      <td>женат / замужем</td>\n",
       "      <td>0</td>\n",
       "      <td>M</td>\n",
       "      <td>компаньон</td>\n",
       "      <td>0</td>\n",
       "      <td>113943.491460</td>\n",
       "      <td>покупка недвижимости</td>\n",
       "    </tr>\n",
       "    <tr>\n",
       "      <th>11</th>\n",
       "      <td>0</td>\n",
       "      <td>-792.701887</td>\n",
       "      <td>40</td>\n",
       "      <td>среднее</td>\n",
       "      <td>1</td>\n",
       "      <td>женат / замужем</td>\n",
       "      <td>0</td>\n",
       "      <td>F</td>\n",
       "      <td>сотрудник</td>\n",
       "      <td>0</td>\n",
       "      <td>77069.234271</td>\n",
       "      <td>покупка коммерческой недвижимости</td>\n",
       "    </tr>\n",
       "    <tr>\n",
       "      <th>12</th>\n",
       "      <td>0</td>\n",
       "      <td>NaN</td>\n",
       "      <td>65</td>\n",
       "      <td>среднее</td>\n",
       "      <td>1</td>\n",
       "      <td>гражданский брак</td>\n",
       "      <td>1</td>\n",
       "      <td>M</td>\n",
       "      <td>пенсионер</td>\n",
       "      <td>0</td>\n",
       "      <td>NaN</td>\n",
       "      <td>сыграть свадьбу</td>\n",
       "    </tr>\n",
       "    <tr>\n",
       "      <th>13</th>\n",
       "      <td>0</td>\n",
       "      <td>-1846.641941</td>\n",
       "      <td>54</td>\n",
       "      <td>неоконченное высшее</td>\n",
       "      <td>2</td>\n",
       "      <td>женат / замужем</td>\n",
       "      <td>0</td>\n",
       "      <td>F</td>\n",
       "      <td>сотрудник</td>\n",
       "      <td>0</td>\n",
       "      <td>130458.228857</td>\n",
       "      <td>приобретение автомобиля</td>\n",
       "    </tr>\n",
       "    <tr>\n",
       "      <th>14</th>\n",
       "      <td>0</td>\n",
       "      <td>-1844.956182</td>\n",
       "      <td>56</td>\n",
       "      <td>высшее</td>\n",
       "      <td>0</td>\n",
       "      <td>гражданский брак</td>\n",
       "      <td>1</td>\n",
       "      <td>F</td>\n",
       "      <td>компаньон</td>\n",
       "      <td>1</td>\n",
       "      <td>165127.911772</td>\n",
       "      <td>покупка жилой недвижимости</td>\n",
       "    </tr>\n",
       "    <tr>\n",
       "      <th>15</th>\n",
       "      <td>1</td>\n",
       "      <td>-972.364419</td>\n",
       "      <td>26</td>\n",
       "      <td>среднее</td>\n",
       "      <td>1</td>\n",
       "      <td>женат / замужем</td>\n",
       "      <td>0</td>\n",
       "      <td>F</td>\n",
       "      <td>сотрудник</td>\n",
       "      <td>0</td>\n",
       "      <td>116820.904450</td>\n",
       "      <td>строительство собственной недвижимости</td>\n",
       "    </tr>\n",
       "    <tr>\n",
       "      <th>16</th>\n",
       "      <td>0</td>\n",
       "      <td>-1719.934226</td>\n",
       "      <td>35</td>\n",
       "      <td>среднее</td>\n",
       "      <td>1</td>\n",
       "      <td>женат / замужем</td>\n",
       "      <td>0</td>\n",
       "      <td>F</td>\n",
       "      <td>сотрудник</td>\n",
       "      <td>0</td>\n",
       "      <td>289202.704229</td>\n",
       "      <td>недвижимость</td>\n",
       "    </tr>\n",
       "    <tr>\n",
       "      <th>17</th>\n",
       "      <td>0</td>\n",
       "      <td>-2369.999720</td>\n",
       "      <td>33</td>\n",
       "      <td>высшее</td>\n",
       "      <td>0</td>\n",
       "      <td>гражданский брак</td>\n",
       "      <td>1</td>\n",
       "      <td>M</td>\n",
       "      <td>сотрудник</td>\n",
       "      <td>0</td>\n",
       "      <td>90410.586745</td>\n",
       "      <td>строительство недвижимости</td>\n",
       "    </tr>\n",
       "    <tr>\n",
       "      <th>18</th>\n",
       "      <td>0</td>\n",
       "      <td>400281.136913</td>\n",
       "      <td>53</td>\n",
       "      <td>среднее</td>\n",
       "      <td>1</td>\n",
       "      <td>вдовец / вдова</td>\n",
       "      <td>2</td>\n",
       "      <td>F</td>\n",
       "      <td>пенсионер</td>\n",
       "      <td>0</td>\n",
       "      <td>56823.777243</td>\n",
       "      <td>на покупку подержанного автомобиля</td>\n",
       "    </tr>\n",
       "    <tr>\n",
       "      <th>19</th>\n",
       "      <td>0</td>\n",
       "      <td>-10038.818549</td>\n",
       "      <td>48</td>\n",
       "      <td>СРЕДНЕЕ</td>\n",
       "      <td>1</td>\n",
       "      <td>в разводе</td>\n",
       "      <td>3</td>\n",
       "      <td>F</td>\n",
       "      <td>сотрудник</td>\n",
       "      <td>0</td>\n",
       "      <td>242831.107982</td>\n",
       "      <td>на покупку своего автомобиля</td>\n",
       "    </tr>\n",
       "  </tbody>\n",
       "</table>\n",
       "</div>"
      ],
      "text/plain": [
       "    children  days_employed  dob_years            education  education_id  \\\n",
       "0          1   -8437.673028         42               высшее             0   \n",
       "1          1   -4024.803754         36              среднее             1   \n",
       "2          0   -5623.422610         33              Среднее             1   \n",
       "3          3   -4124.747207         32              среднее             1   \n",
       "4          0  340266.072047         53              среднее             1   \n",
       "5          0    -926.185831         27               высшее             0   \n",
       "6          0   -2879.202052         43               высшее             0   \n",
       "7          0    -152.779569         50              СРЕДНЕЕ             1   \n",
       "8          2   -6929.865299         35               ВЫСШЕЕ             0   \n",
       "9          0   -2188.756445         41              среднее             1   \n",
       "10         2   -4171.483647         36               высшее             0   \n",
       "11         0    -792.701887         40              среднее             1   \n",
       "12         0            NaN         65              среднее             1   \n",
       "13         0   -1846.641941         54  неоконченное высшее             2   \n",
       "14         0   -1844.956182         56               высшее             0   \n",
       "15         1    -972.364419         26              среднее             1   \n",
       "16         0   -1719.934226         35              среднее             1   \n",
       "17         0   -2369.999720         33               высшее             0   \n",
       "18         0  400281.136913         53              среднее             1   \n",
       "19         0  -10038.818549         48              СРЕДНЕЕ             1   \n",
       "\n",
       "       family_status  family_status_id gender income_type  debt  \\\n",
       "0    женат / замужем                 0      F   сотрудник     0   \n",
       "1    женат / замужем                 0      F   сотрудник     0   \n",
       "2    женат / замужем                 0      M   сотрудник     0   \n",
       "3    женат / замужем                 0      M   сотрудник     0   \n",
       "4   гражданский брак                 1      F   пенсионер     0   \n",
       "5   гражданский брак                 1      M   компаньон     0   \n",
       "6    женат / замужем                 0      F   компаньон     0   \n",
       "7    женат / замужем                 0      M   сотрудник     0   \n",
       "8   гражданский брак                 1      F   сотрудник     0   \n",
       "9    женат / замужем                 0      M   сотрудник     0   \n",
       "10   женат / замужем                 0      M   компаньон     0   \n",
       "11   женат / замужем                 0      F   сотрудник     0   \n",
       "12  гражданский брак                 1      M   пенсионер     0   \n",
       "13   женат / замужем                 0      F   сотрудник     0   \n",
       "14  гражданский брак                 1      F   компаньон     1   \n",
       "15   женат / замужем                 0      F   сотрудник     0   \n",
       "16   женат / замужем                 0      F   сотрудник     0   \n",
       "17  гражданский брак                 1      M   сотрудник     0   \n",
       "18    вдовец / вдова                 2      F   пенсионер     0   \n",
       "19         в разводе                 3      F   сотрудник     0   \n",
       "\n",
       "     total_income                                 purpose  \n",
       "0   253875.639453                           покупка жилья  \n",
       "1   112080.014102                 приобретение автомобиля  \n",
       "2   145885.952297                           покупка жилья  \n",
       "3   267628.550329              дополнительное образование  \n",
       "4   158616.077870                         сыграть свадьбу  \n",
       "5   255763.565419                           покупка жилья  \n",
       "6   240525.971920                       операции с жильем  \n",
       "7   135823.934197                             образование  \n",
       "8    95856.832424                   на проведение свадьбы  \n",
       "9   144425.938277                 покупка жилья для семьи  \n",
       "10  113943.491460                    покупка недвижимости  \n",
       "11   77069.234271       покупка коммерческой недвижимости  \n",
       "12            NaN                         сыграть свадьбу  \n",
       "13  130458.228857                 приобретение автомобиля  \n",
       "14  165127.911772              покупка жилой недвижимости  \n",
       "15  116820.904450  строительство собственной недвижимости  \n",
       "16  289202.704229                            недвижимость  \n",
       "17   90410.586745              строительство недвижимости  \n",
       "18   56823.777243      на покупку подержанного автомобиля  \n",
       "19  242831.107982            на покупку своего автомобиля  "
      ]
     },
     "execution_count": 2,
     "metadata": {},
     "output_type": "execute_result"
    }
   ],
   "source": [
    "data.head(20)"
   ]
  },
  {
   "cell_type": "code",
   "execution_count": 3,
   "id": "2b757bca",
   "metadata": {
    "deletable": false,
    "id": "2b757bca",
    "outputId": "15376089-8dad-46c9-b520-c05248d43158"
   },
   "outputs": [
    {
     "name": "stdout",
     "output_type": "stream",
     "text": [
      "<class 'pandas.core.frame.DataFrame'>\n",
      "RangeIndex: 21525 entries, 0 to 21524\n",
      "Data columns (total 12 columns):\n",
      " #   Column            Non-Null Count  Dtype  \n",
      "---  ------            --------------  -----  \n",
      " 0   children          21525 non-null  int64  \n",
      " 1   days_employed     19351 non-null  float64\n",
      " 2   dob_years         21525 non-null  int64  \n",
      " 3   education         21525 non-null  object \n",
      " 4   education_id      21525 non-null  int64  \n",
      " 5   family_status     21525 non-null  object \n",
      " 6   family_status_id  21525 non-null  int64  \n",
      " 7   gender            21525 non-null  object \n",
      " 8   income_type       21525 non-null  object \n",
      " 9   debt              21525 non-null  int64  \n",
      " 10  total_income      19351 non-null  float64\n",
      " 11  purpose           21525 non-null  object \n",
      "dtypes: float64(2), int64(5), object(5)\n",
      "memory usage: 2.0+ MB\n"
     ]
    }
   ],
   "source": [
    "data.info()"
   ]
  },
  {
   "cell_type": "markdown",
   "id": "333ec665",
   "metadata": {
    "deletable": false,
    "id": "333ec665"
   },
   "source": [
    "## Предобработка данных"
   ]
  },
  {
   "cell_type": "markdown",
   "id": "02d92d53",
   "metadata": {
    "deletable": false,
    "id": "02d92d53"
   },
   "source": [
    "### Удаление пропусков"
   ]
  },
  {
   "cell_type": "code",
   "execution_count": 4,
   "id": "7f9b2309",
   "metadata": {
    "deletable": false,
    "id": "7f9b2309",
    "outputId": "81f4d817-781c-465c-ed15-91ce4446810d"
   },
   "outputs": [
    {
     "data": {
      "text/plain": [
       "children               0\n",
       "days_employed       2174\n",
       "dob_years              0\n",
       "education              0\n",
       "education_id           0\n",
       "family_status          0\n",
       "family_status_id       0\n",
       "gender                 0\n",
       "income_type            0\n",
       "debt                   0\n",
       "total_income        2174\n",
       "purpose                0\n",
       "dtype: int64"
      ]
     },
     "execution_count": 4,
     "metadata": {},
     "output_type": "execute_result"
    }
   ],
   "source": [
    "data.isna().sum()"
   ]
  },
  {
   "cell_type": "code",
   "execution_count": 5,
   "id": "42006a93",
   "metadata": {
    "deletable": false,
    "id": "42006a93"
   },
   "outputs": [],
   "source": [
    "for t in data['income_type'].unique():\n",
    "    data.loc[(data['income_type'] == t) & (data['total_income'].isna()), 'total_income'] = \\\n",
    "    data.loc[(data['income_type'] == t), 'total_income'].median()"
   ]
  },
  {
   "cell_type": "markdown",
   "id": "89da5ece",
   "metadata": {
    "deletable": false,
    "id": "89da5ece"
   },
   "source": [
    "### Обработка аномальных значений"
   ]
  },
  {
   "cell_type": "code",
   "execution_count": 6,
   "id": "f6f055bf",
   "metadata": {
    "deletable": false,
    "id": "f6f055bf"
   },
   "outputs": [],
   "source": [
    "data['days_employed'] = data['days_employed'].abs()"
   ]
  },
  {
   "cell_type": "code",
   "execution_count": 7,
   "id": "85a5faf6",
   "metadata": {
    "deletable": false,
    "id": "85a5faf6",
    "outputId": "801ef80e-522b-4668-f34e-565af7432bcf"
   },
   "outputs": [
    {
     "data": {
      "text/plain": [
       "income_type\n",
       "безработный        366413.652744\n",
       "в декрете            3296.759962\n",
       "госслужащий          2689.368353\n",
       "компаньон            1547.382223\n",
       "пенсионер          365213.306266\n",
       "предприниматель       520.848083\n",
       "сотрудник            1574.202821\n",
       "студент               578.751554\n",
       "Name: days_employed, dtype: float64"
      ]
     },
     "execution_count": 7,
     "metadata": {},
     "output_type": "execute_result"
    }
   ],
   "source": [
    "data.groupby('income_type')['days_employed'].agg('median')"
   ]
  },
  {
   "cell_type": "markdown",
   "id": "38d1a030",
   "metadata": {
    "deletable": false,
    "id": "38d1a030"
   },
   "source": [
    "У двух типов (безработные и пенсионеры) получатся аномально большие значения. Исправить такие значения сложно, поэтому оставим их как есть. Тем более этот столбец не понадобится нам для исследования."
   ]
  },
  {
   "cell_type": "markdown",
   "id": "d8a9f147",
   "metadata": {
    "deletable": false,
    "id": "d8a9f147"
   },
   "source": [
    "Выведем перечень уникальных значений столбца `children`."
   ]
  },
  {
   "cell_type": "code",
   "execution_count": 8,
   "id": "ef5056eb",
   "metadata": {
    "deletable": false,
    "id": "ef5056eb",
    "outputId": "6975b15c-7f95-4697-d16d-a0c79b657b03"
   },
   "outputs": [
    {
     "data": {
      "text/plain": [
       "array([ 1,  0,  3,  2, -1,  4, 20,  5])"
      ]
     },
     "execution_count": 8,
     "metadata": {},
     "output_type": "execute_result"
    }
   ],
   "source": [
    "data['children'].unique()"
   ]
  },
  {
   "cell_type": "markdown",
   "id": "40b9ebf2",
   "metadata": {
    "deletable": false,
    "id": "40b9ebf2"
   },
   "source": [
    "В столбце `children` есть два аномальных значения. Удалим строки, в которых встречаются такие аномальные значения из датафрейма `data`."
   ]
  },
  {
   "cell_type": "code",
   "execution_count": 9,
   "id": "3ff9801d",
   "metadata": {
    "deletable": false,
    "id": "3ff9801d"
   },
   "outputs": [],
   "source": [
    "data = data[(data['children'] != -1) & (data['children'] != 20)]"
   ]
  },
  {
   "cell_type": "markdown",
   "id": "bbc4d0ce",
   "metadata": {
    "deletable": false,
    "id": "bbc4d0ce"
   },
   "source": [
    "Ещё раз выведем перечень уникальных значений столбца `children`, чтобы убедиться, что артефакты удалены."
   ]
  },
  {
   "cell_type": "code",
   "execution_count": 10,
   "id": "ad4fa8b7",
   "metadata": {
    "deletable": false,
    "id": "ad4fa8b7",
    "outputId": "b2097101-d49d-44d9-901b-32a65c9463d1"
   },
   "outputs": [
    {
     "data": {
      "text/plain": [
       "array([1, 0, 3, 2, 4, 5])"
      ]
     },
     "execution_count": 10,
     "metadata": {},
     "output_type": "execute_result"
    }
   ],
   "source": [
    "data['children'].unique()"
   ]
  },
  {
   "cell_type": "markdown",
   "id": "f4ea573f",
   "metadata": {
    "deletable": false,
    "id": "f4ea573f"
   },
   "source": [
    "Заполним пропуски в столбце `days_employed` медианными значениями по каждого типа занятости `income_type`."
   ]
  },
  {
   "cell_type": "code",
   "execution_count": 11,
   "id": "af6b1a7e",
   "metadata": {
    "deletable": false,
    "id": "af6b1a7e"
   },
   "outputs": [],
   "source": [
    "for t in data['income_type'].unique():\n",
    "    data.loc[(data['income_type'] == t) & (data['days_employed'].isna()), 'days_employed'] = \\\n",
    "    data.loc[(data['income_type'] == t), 'days_employed'].median()"
   ]
  },
  {
   "cell_type": "code",
   "execution_count": 12,
   "id": "55f78bc2",
   "metadata": {
    "deletable": false,
    "id": "55f78bc2",
    "outputId": "8da1e4e1-358e-4e87-98c9-f261bce0a7b2"
   },
   "outputs": [
    {
     "data": {
      "text/plain": [
       "children            0\n",
       "days_employed       0\n",
       "dob_years           0\n",
       "education           0\n",
       "education_id        0\n",
       "family_status       0\n",
       "family_status_id    0\n",
       "gender              0\n",
       "income_type         0\n",
       "debt                0\n",
       "total_income        0\n",
       "purpose             0\n",
       "dtype: int64"
      ]
     },
     "execution_count": 12,
     "metadata": {},
     "output_type": "execute_result"
    }
   ],
   "source": [
    "data.isna().sum()"
   ]
  },
  {
   "cell_type": "code",
   "execution_count": 13,
   "id": "920b65ad",
   "metadata": {
    "deletable": false,
    "id": "920b65ad"
   },
   "outputs": [],
   "source": [
    "data['total_income'] = data['total_income'].astype(int)"
   ]
  },
  {
   "cell_type": "markdown",
   "id": "80c420ba",
   "metadata": {
    "deletable": false,
    "id": "80c420ba"
   },
   "source": [
    "### Обработка дубликатов"
   ]
  },
  {
   "cell_type": "code",
   "execution_count": 14,
   "id": "3ee445e4",
   "metadata": {
    "deletable": false,
    "id": "3ee445e4",
    "outputId": "9684deba-1934-42d1-99e1-cda61740f822"
   },
   "outputs": [
    {
     "data": {
      "text/plain": [
       "54"
      ]
     },
     "execution_count": 14,
     "metadata": {},
     "output_type": "execute_result"
    }
   ],
   "source": [
    "data.duplicated().sum()"
   ]
  },
  {
   "cell_type": "code",
   "execution_count": 15,
   "id": "8575fe05",
   "metadata": {
    "deletable": false,
    "id": "8575fe05"
   },
   "outputs": [],
   "source": [
    "data = data.drop_duplicates()"
   ]
  },
  {
   "cell_type": "code",
   "execution_count": 16,
   "id": "a9f8e2bf",
   "metadata": {
    "deletable": false,
    "id": "a9f8e2bf"
   },
   "outputs": [],
   "source": [
    "data['education'] = data['education'].str.lower()"
   ]
  },
  {
   "cell_type": "markdown",
   "id": "9904cf55",
   "metadata": {
    "deletable": false,
    "id": "9904cf55"
   },
   "source": [
    "### Категоризация данных"
   ]
  },
  {
   "cell_type": "markdown",
   "id": "72fcc8a2",
   "metadata": {
    "deletable": false,
    "id": "72fcc8a2"
   },
   "source": [
    "На основании диапазонов, указанных ниже, создадим в датафрейме `data` столбец `total_income_category` с категориями:\n",
    "\n",
    "- 0–30000 — `'E'`;\n",
    "- 30001–50000 — `'D'`;\n",
    "- 50001–200000 — `'C'`;\n",
    "- 200001–1000000 — `'B'`;\n",
    "- 1000001 и выше — `'A'`."
   ]
  },
  {
   "cell_type": "code",
   "execution_count": 17,
   "id": "e1771346",
   "metadata": {
    "deletable": false,
    "id": "e1771346"
   },
   "outputs": [],
   "source": [
    "def categorize_income(income):\n",
    "    try:\n",
    "        if 0 <= income <= 30000:\n",
    "            return 'E'\n",
    "        elif 30001 <= income <= 50000:\n",
    "            return 'D'\n",
    "        elif 50001 <= income <= 200000:\n",
    "            return 'C'\n",
    "        elif 200001 <= income <= 1000000:\n",
    "            return 'B'\n",
    "        elif income >= 1000001:\n",
    "            return 'A'\n",
    "    except:\n",
    "        pass"
   ]
  },
  {
   "cell_type": "code",
   "execution_count": 18,
   "id": "d5f3586d",
   "metadata": {
    "deletable": false,
    "id": "d5f3586d"
   },
   "outputs": [],
   "source": [
    "data['total_income_category'] = data['total_income'].apply(categorize_income)"
   ]
  },
  {
   "cell_type": "code",
   "execution_count": 19,
   "id": "f67ce9b3",
   "metadata": {
    "deletable": false,
    "id": "f67ce9b3",
    "outputId": "673c12d9-7d7e-4ae0-9812-c622c89dd244"
   },
   "outputs": [
    {
     "data": {
      "text/plain": [
       "array(['покупка жилья', 'приобретение автомобиля',\n",
       "       'дополнительное образование', 'сыграть свадьбу',\n",
       "       'операции с жильем', 'образование', 'на проведение свадьбы',\n",
       "       'покупка жилья для семьи', 'покупка недвижимости',\n",
       "       'покупка коммерческой недвижимости', 'покупка жилой недвижимости',\n",
       "       'строительство собственной недвижимости', 'недвижимость',\n",
       "       'строительство недвижимости', 'на покупку подержанного автомобиля',\n",
       "       'на покупку своего автомобиля',\n",
       "       'операции с коммерческой недвижимостью',\n",
       "       'строительство жилой недвижимости', 'жилье',\n",
       "       'операции со своей недвижимостью', 'автомобили',\n",
       "       'заняться образованием', 'сделка с подержанным автомобилем',\n",
       "       'получение образования', 'автомобиль', 'свадьба',\n",
       "       'получение дополнительного образования', 'покупка своего жилья',\n",
       "       'операции с недвижимостью', 'получение высшего образования',\n",
       "       'свой автомобиль', 'сделка с автомобилем',\n",
       "       'профильное образование', 'высшее образование',\n",
       "       'покупка жилья для сдачи', 'на покупку автомобиля', 'ремонт жилью',\n",
       "       'заняться высшим образованием'], dtype=object)"
      ]
     },
     "execution_count": 19,
     "metadata": {},
     "output_type": "execute_result"
    }
   ],
   "source": [
    "data['purpose'].unique()"
   ]
  },
  {
   "cell_type": "markdown",
   "id": "85d0aef0",
   "metadata": {
    "deletable": false,
    "id": "85d0aef0"
   },
   "source": [
    "Создадим функцию, которая на основании данных из столбца `purpose` сформирует новый столбец `purpose_category`, в который войдут следующие категории:\n",
    "\n",
    "- `'операции с автомобилем'`,\n",
    "- `'операции с недвижимостью'`,\n",
    "- `'проведение свадьбы'`,\n",
    "- `'получение образования'`."
   ]
  },
  {
   "cell_type": "code",
   "execution_count": 20,
   "id": "e149fab4",
   "metadata": {
    "deletable": false,
    "id": "e149fab4"
   },
   "outputs": [],
   "source": [
    "def categorize_purpose(row):\n",
    "    try:\n",
    "        if 'автом' in row:\n",
    "            return 'операции с автомобилем'\n",
    "        elif 'жил' in row or 'недвиж' in row:\n",
    "            return 'операции с недвижимостью'\n",
    "        elif 'свад' in row:\n",
    "            return 'проведение свадьбы'\n",
    "        elif 'образов' in row:\n",
    "            return 'получение образования'\n",
    "    except:\n",
    "        return 'нет категории'"
   ]
  },
  {
   "cell_type": "code",
   "execution_count": 21,
   "id": "bf36e69b",
   "metadata": {
    "deletable": false,
    "id": "bf36e69b"
   },
   "outputs": [],
   "source": [
    "data['purpose_category'] = data['purpose'].apply(categorize_purpose)"
   ]
  },
  {
   "cell_type": "markdown",
   "id": "c5d66278",
   "metadata": {
    "deletable": false,
    "editable": false,
    "id": "c5d66278"
   },
   "source": [
    "Посмотрим, есть ли зависимость между количеством детей и возвратом кредита в срок?"
   ]
  },
  {
   "cell_type": "code",
   "execution_count": 22,
   "id": "2cacfc4a",
   "metadata": {
    "id": "2cacfc4a"
   },
   "outputs": [
    {
     "name": "stdout",
     "output_type": "stream",
     "text": [
      "children\n",
      "0    0.075353\n",
      "1    0.092327\n",
      "2    0.094542\n",
      "3    0.081818\n",
      "4    0.097561\n",
      "5    0.000000\n",
      "Name: debt, dtype: float64\n"
     ]
    }
   ],
   "source": [
    "print( data.groupby('children')['debt'].agg('mean'))"
   ]
  },
  {
   "cell_type": "code",
   "execution_count": 23,
   "id": "1bddb3c5",
   "metadata": {},
   "outputs": [
    {
     "name": "stdout",
     "output_type": "stream",
     "text": [
      "children\n",
      "0    1063\n",
      "1     444\n",
      "2     194\n",
      "3      27\n",
      "4       4\n",
      "5       0\n",
      "Name: debt, dtype: int64\n"
     ]
    }
   ],
   "source": [
    "# общее количество просрочек по кредиту с разбивкой по количеству детей в семье\n",
    "print(data.groupby('children')['debt'].sum())"
   ]
  },
  {
   "cell_type": "markdown",
   "id": "3a6b99ec",
   "metadata": {
    "deletable": false,
    "id": "3a6b99ec"
   },
   "source": [
    "**Вывод:** \n",
    "\n",
    "По мере увеличения количества детей вероятность просрочки увеличивается. Исключением являются семьи с 3 детьми, хотя и у них вероятность просрочки выше, чем у семей без детей. \n",
    "\n",
    "Семьи же с 5 детьми в нашей выборке не имели ни одной просрочки по кредиту. Но таких семей в нашей выборке всего 9 - этого количества недостаточно, чтобы делать какие-либо выводы."
   ]
  },
  {
   "cell_type": "markdown",
   "id": "97be82ca",
   "metadata": {
    "deletable": false,
    "editable": false,
    "id": "97be82ca"
   },
   "source": [
    "Проверим, есть ли зависимость между семейным положением и возвратом кредита в срок?"
   ]
  },
  {
   "cell_type": "code",
   "execution_count": 24,
   "id": "dc3f7ee8",
   "metadata": {
    "id": "dc3f7ee8",
    "scrolled": false
   },
   "outputs": [
    {
     "name": "stdout",
     "output_type": "stream",
     "text": [
      "family_status\n",
      "вдовец / вдова           0.066246\n",
      "в разводе                0.070648\n",
      "женат / замужем          0.075575\n",
      "гражданский брак         0.092861\n",
      "Не женат / не замужем    0.097639\n",
      "Name: debt, dtype: float64\n"
     ]
    }
   ],
   "source": [
    "print(data.groupby('family_status')['debt'].mean().sort_values())"
   ]
  },
  {
   "cell_type": "code",
   "execution_count": 25,
   "id": "fe65a43e",
   "metadata": {},
   "outputs": [
    {
     "name": "stdout",
     "output_type": "stream",
     "text": [
      "family_status\n",
      "вдовец / вдова           58\n",
      "в разводе                46\n",
      "женат / замужем          43\n",
      "гражданский брак         41\n",
      "Не женат / не замужем    36\n",
      "Name: dob_years, dtype: int64\n"
     ]
    }
   ],
   "source": [
    "print(data.groupby('family_status')['dob_years'].median().sort_values(ascending=False))"
   ]
  },
  {
   "cell_type": "markdown",
   "id": "1cef7837",
   "metadata": {
    "deletable": false,
    "id": "1cef7837"
   },
   "source": [
    "**Вывод:** \n",
    "\n",
    "Такая зависимость есть. Но, возможно, в дейсвительности это отражение зависимости между возрастом и вероятностью вовзрата кредита в срок.\n"
   ]
  },
  {
   "cell_type": "markdown",
   "id": "1e8b2fca",
   "metadata": {
    "deletable": false,
    "editable": false,
    "id": "1e8b2fca"
   },
   "source": [
    "А есть ли зависимость между уровнем дохода и возвратом кредита в срок?"
   ]
  },
  {
   "cell_type": "code",
   "execution_count": 26,
   "id": "cd7e3720",
   "metadata": {
    "id": "cd7e3720",
    "scrolled": true
   },
   "outputs": [
    {
     "name": "stdout",
     "output_type": "stream",
     "text": [
      "total_income_category\n",
      "E    0.090909\n",
      "C    0.084891\n",
      "A    0.080000\n",
      "B    0.070602\n",
      "D    0.060172\n",
      "Name: debt, dtype: float64\n"
     ]
    }
   ],
   "source": [
    "print(data.groupby('total_income_category')['debt'].mean().sort_values(ascending=False))"
   ]
  },
  {
   "cell_type": "markdown",
   "id": "cf0e0ea4",
   "metadata": {},
   "source": [
    "Справочно:\n",
    "* Ежемесячный доход от 0  до 30 000 - Категория E\n",
    "* Ежемесячный доход от 30 001  до 50 000 - Категория D\n",
    "* Ежемесячный доход от 50 001  до 200 000 - Категория C\n",
    "* Ежемесячный доход от 200 001  до 1 000 000 - Категория B\n",
    "* Ежемесячный доход выше 1 000 000 - Категория A"
   ]
  },
  {
   "cell_type": "markdown",
   "id": "e8593def",
   "metadata": {
    "deletable": false,
    "id": "e8593def"
   },
   "source": [
    "**Вывод:** \n",
    "\n",
    "Существует зависимость между уровнем дохода и возвратом кредита в срок, но она не линейная. Заемщики из категории Е - наимение обеспеченные - ожидаемо имеют наибольший риск просрочки по кредиту. \n",
    "\n",
    "Однако, заемщики с доходом выше 1 000 000 имеют чуть меньшую вероятность просрочки чем заемщики с доходом 50 001 до 200 000 в месяц, что контринтуитивно. "
   ]
  },
  {
   "cell_type": "markdown",
   "id": "99ecbd1f",
   "metadata": {
    "deletable": false,
    "editable": false,
    "id": "99ecbd1f"
   },
   "source": [
    "Посмотрим, как разные цели кредита влияют на его возврат в срок:"
   ]
  },
  {
   "cell_type": "code",
   "execution_count": 27,
   "id": "2b687290",
   "metadata": {
    "id": "2b687290",
    "scrolled": true
   },
   "outputs": [
    {
     "name": "stdout",
     "output_type": "stream",
     "text": [
      "purpose_category\n",
      "операции с автомобилем      0.093436\n",
      "получение образования       0.092504\n",
      "проведение свадьбы          0.078744\n",
      "операции с недвижимостью    0.072531\n",
      "Name: debt, dtype: float64\n"
     ]
    }
   ],
   "source": [
    "print(data.groupby('purpose_category')['debt'].mean().sort_values(ascending=False))"
   ]
  },
  {
   "cell_type": "code",
   "execution_count": 28,
   "id": "1d862376",
   "metadata": {},
   "outputs": [
    {
     "name": "stdout",
     "output_type": "stream",
     "text": [
      "purpose_category\n",
      "операции с автомобилем      43.505957\n",
      "получение образования       43.420155\n",
      "проведение свадьбы          43.191910\n",
      "операции с недвижимостью    43.168681\n",
      "Name: dob_years, dtype: float64\n"
     ]
    }
   ],
   "source": [
    "# Получаем средний возраст заемщика по различным целям кредита - проверка гипотезы на связь цели кредита и возраста.\n",
    "print(data.groupby('purpose_category')['dob_years'].mean().sort_values(ascending=False))"
   ]
  },
  {
   "cell_type": "markdown",
   "id": "b4bb2ce6",
   "metadata": {
    "deletable": false,
    "id": "b4bb2ce6"
   },
   "source": [
    "**Вывод:** \n",
    "\n",
    "Разные цели кредита влияют на вероятность его возврат в срок. Так, наиболее рискованной целью кредита является автокредит, а наименее рискованной - операции с недвижимостью.\n"
   ]
  },
  {
   "cell_type": "markdown",
   "id": "6db5255a",
   "metadata": {
    "deletable": false,
    "editable": false,
    "id": "6db5255a"
   },
   "source": [
    "## Общий вывод."
   ]
  },
  {
   "cell_type": "markdown",
   "id": "bad65432",
   "metadata": {
    "id": "bad65432"
   },
   "source": [
    "&nbsp; &nbsp; В ходе исследования мы выяснили, что с увеличением количества детей уменьшается вероятность погашения кредита в срок, семейное положение влияет на погашение кредита. (При этом гипотеза о наличии связи между возрастом и вероятностью погашения кредита не подтвердилась.)\n",
    "\n",
    "&nbsp; &nbsp; Также, вопреки ожиданиям, наиболее обеспеченная группа заемщиков не является наиболее надежной.  А обеспечение исполнения кредитных обязательств залогом - ипотекой - приводит к наименьшим просрочкам по кредитам. \n",
    "\n",
    "&nbsp; &nbsp; Любопытно, что примерно с такой же дисциплинированностью, что  и ипотечники, молодожены погашают кредиты, взятые на проведение свадьбы.\n",
    "\n",
    "\n",
    "\n",
    "\n",
    "    "
   ]
  }
 ],
 "metadata": {
  "ExecuteTimeLog": [
   {
    "duration": 46,
    "start_time": "2022-07-19T05:17:32.352Z"
   },
   {
    "duration": 695,
    "start_time": "2022-07-19T05:17:49.767Z"
   },
   {
    "duration": 21,
    "start_time": "2022-07-19T05:17:52.392Z"
   },
   {
    "duration": 14,
    "start_time": "2022-07-19T05:17:59.652Z"
   },
   {
    "duration": 10,
    "start_time": "2022-07-19T05:18:01.867Z"
   },
   {
    "duration": 33,
    "start_time": "2022-07-19T05:18:04.112Z"
   },
   {
    "duration": 4,
    "start_time": "2022-07-19T05:18:06.305Z"
   },
   {
    "duration": 7,
    "start_time": "2022-07-19T05:18:11.866Z"
   },
   {
    "duration": 5,
    "start_time": "2022-07-19T05:18:14.111Z"
   },
   {
    "duration": 9,
    "start_time": "2022-07-19T05:18:16.220Z"
   },
   {
    "duration": 5,
    "start_time": "2022-07-19T05:18:18.678Z"
   },
   {
    "duration": 45,
    "start_time": "2022-07-19T05:18:21.054Z"
   },
   {
    "duration": 10,
    "start_time": "2022-07-19T05:18:23.738Z"
   },
   {
    "duration": 5,
    "start_time": "2022-07-19T05:18:25.892Z"
   },
   {
    "duration": 28,
    "start_time": "2022-07-19T05:18:28.120Z"
   },
   {
    "duration": 16,
    "start_time": "2022-07-19T05:18:30.442Z"
   },
   {
    "duration": 11,
    "start_time": "2022-07-19T05:18:35.643Z"
   },
   {
    "duration": 6,
    "start_time": "2022-07-19T05:18:39.179Z"
   },
   {
    "duration": 10,
    "start_time": "2022-07-19T05:18:43.064Z"
   },
   {
    "duration": 8,
    "start_time": "2022-07-19T05:18:45.548Z"
   },
   {
    "duration": 4,
    "start_time": "2022-07-19T05:18:50.424Z"
   },
   {
    "duration": 13,
    "start_time": "2022-07-19T05:18:52.678Z"
   },
   {
    "duration": 19,
    "start_time": "2022-07-19T05:18:57.151Z"
   },
   {
    "duration": 35,
    "start_time": "2022-07-19T05:23:57.469Z"
   },
   {
    "duration": 11,
    "start_time": "2022-07-19T05:24:28.042Z"
   },
   {
    "duration": 9,
    "start_time": "2022-07-19T05:25:10.307Z"
   },
   {
    "duration": 19,
    "start_time": "2022-07-19T05:29:59.373Z"
   },
   {
    "duration": 10,
    "start_time": "2022-07-19T05:32:06.466Z"
   },
   {
    "duration": 13,
    "start_time": "2022-07-19T05:33:50.838Z"
   },
   {
    "duration": 6,
    "start_time": "2022-07-19T05:42:58.383Z"
   },
   {
    "duration": 6,
    "start_time": "2022-07-19T05:43:24.185Z"
   },
   {
    "duration": 6,
    "start_time": "2022-07-19T05:45:56.764Z"
   },
   {
    "duration": 6,
    "start_time": "2022-07-19T14:06:34.238Z"
   },
   {
    "duration": 9,
    "start_time": "2022-07-19T14:06:53.196Z"
   },
   {
    "duration": 8,
    "start_time": "2022-07-19T14:07:02.145Z"
   },
   {
    "duration": 8,
    "start_time": "2022-07-19T14:09:56.033Z"
   },
   {
    "duration": 16,
    "start_time": "2022-07-19T14:10:29.577Z"
   },
   {
    "duration": 20,
    "start_time": "2022-07-19T14:10:47.300Z"
   },
   {
    "duration": 15,
    "start_time": "2022-07-19T14:11:04.181Z"
   },
   {
    "duration": 14,
    "start_time": "2022-07-19T14:11:09.153Z"
   },
   {
    "duration": 106,
    "start_time": "2022-07-19T14:11:23.085Z"
   },
   {
    "duration": 9,
    "start_time": "2022-07-19T14:11:38.189Z"
   },
   {
    "duration": 73,
    "start_time": "2022-07-19T14:11:49.284Z"
   },
   {
    "duration": 124,
    "start_time": "2022-07-19T14:11:56.741Z"
   },
   {
    "duration": 10,
    "start_time": "2022-07-19T14:12:06.834Z"
   },
   {
    "duration": 16,
    "start_time": "2022-07-19T14:12:46.007Z"
   },
   {
    "duration": 20,
    "start_time": "2022-07-19T14:14:04.784Z"
   },
   {
    "duration": 10,
    "start_time": "2022-07-19T14:15:47.432Z"
   },
   {
    "duration": 11,
    "start_time": "2022-07-19T14:16:44.725Z"
   },
   {
    "duration": 20,
    "start_time": "2022-07-19T14:17:45.758Z"
   },
   {
    "duration": 10,
    "start_time": "2022-07-19T14:18:09.611Z"
   },
   {
    "duration": 102,
    "start_time": "2022-07-19T14:20:34.242Z"
   },
   {
    "duration": 91,
    "start_time": "2022-07-19T14:20:40.659Z"
   },
   {
    "duration": 7,
    "start_time": "2022-07-19T14:20:48.227Z"
   },
   {
    "duration": 18,
    "start_time": "2022-07-19T14:20:59.287Z"
   },
   {
    "duration": 2257,
    "start_time": "2022-07-19T14:53:57.985Z"
   },
   {
    "duration": 34,
    "start_time": "2022-07-19T14:55:04.150Z"
   },
   {
    "duration": 12,
    "start_time": "2022-07-19T14:56:10.400Z"
   },
   {
    "duration": 29,
    "start_time": "2022-07-19T15:00:40.677Z"
   },
   {
    "duration": 32,
    "start_time": "2022-07-19T15:01:56.692Z"
   },
   {
    "duration": 16,
    "start_time": "2022-07-19T15:03:27.302Z"
   },
   {
    "duration": 22,
    "start_time": "2022-07-19T15:03:34.588Z"
   },
   {
    "duration": 17,
    "start_time": "2022-07-19T15:06:27.901Z"
   },
   {
    "duration": 19,
    "start_time": "2022-07-19T15:07:11.127Z"
   },
   {
    "duration": 16,
    "start_time": "2022-07-19T15:07:33.619Z"
   },
   {
    "duration": 16,
    "start_time": "2022-07-19T15:07:45.554Z"
   },
   {
    "duration": 12,
    "start_time": "2022-07-19T15:41:50.988Z"
   },
   {
    "duration": 70,
    "start_time": "2022-07-19T15:48:35.278Z"
   },
   {
    "duration": 4,
    "start_time": "2022-07-19T15:48:41.416Z"
   },
   {
    "duration": 3,
    "start_time": "2022-07-19T15:48:43.332Z"
   },
   {
    "duration": 9,
    "start_time": "2022-07-19T15:48:52.550Z"
   },
   {
    "duration": 6,
    "start_time": "2022-07-19T15:49:57.828Z"
   },
   {
    "duration": 7,
    "start_time": "2022-07-19T15:51:41.531Z"
   },
   {
    "duration": 4,
    "start_time": "2022-07-19T16:06:11.276Z"
   },
   {
    "duration": 3,
    "start_time": "2022-07-19T16:06:52.040Z"
   },
   {
    "duration": 5,
    "start_time": "2022-07-19T16:08:59.426Z"
   },
   {
    "duration": 7,
    "start_time": "2022-07-19T16:09:09.608Z"
   },
   {
    "duration": 7,
    "start_time": "2022-07-19T16:09:35.975Z"
   },
   {
    "duration": 7,
    "start_time": "2022-07-19T16:17:36.575Z"
   },
   {
    "duration": 12,
    "start_time": "2022-07-19T16:19:10.742Z"
   },
   {
    "duration": 12,
    "start_time": "2022-07-19T16:20:14.710Z"
   },
   {
    "duration": 151,
    "start_time": "2022-07-19T16:20:47.444Z"
   },
   {
    "duration": 72,
    "start_time": "2022-07-19T16:20:55.850Z"
   },
   {
    "duration": 8,
    "start_time": "2022-07-19T16:21:23.280Z"
   },
   {
    "duration": 12,
    "start_time": "2022-07-19T16:22:07.360Z"
   },
   {
    "duration": 8,
    "start_time": "2022-07-19T16:22:49.112Z"
   },
   {
    "duration": 5,
    "start_time": "2022-07-19T16:32:39.741Z"
   },
   {
    "duration": 8,
    "start_time": "2022-07-19T16:32:48.359Z"
   },
   {
    "duration": 11,
    "start_time": "2022-07-19T16:34:12.380Z"
   },
   {
    "duration": 10,
    "start_time": "2022-07-19T16:35:12.186Z"
   },
   {
    "duration": 50,
    "start_time": "2022-07-19T16:36:07.046Z"
   },
   {
    "duration": 7,
    "start_time": "2022-07-19T16:42:42.626Z"
   },
   {
    "duration": 7,
    "start_time": "2022-07-19T16:42:51.122Z"
   },
   {
    "duration": 7,
    "start_time": "2022-07-19T16:45:21.302Z"
   },
   {
    "duration": 9,
    "start_time": "2022-07-19T16:45:29.977Z"
   },
   {
    "duration": 9,
    "start_time": "2022-07-19T17:00:32.604Z"
   },
   {
    "duration": 10,
    "start_time": "2022-07-19T17:01:15.385Z"
   },
   {
    "duration": 9,
    "start_time": "2022-07-19T17:01:21.302Z"
   },
   {
    "duration": 8,
    "start_time": "2022-07-19T17:02:25.415Z"
   },
   {
    "duration": 7,
    "start_time": "2022-07-19T17:03:05.212Z"
   },
   {
    "duration": 7,
    "start_time": "2022-07-19T17:03:32.826Z"
   },
   {
    "duration": 8,
    "start_time": "2022-07-19T17:04:13.303Z"
   },
   {
    "duration": 57,
    "start_time": "2022-07-20T13:57:58.277Z"
   },
   {
    "duration": 7,
    "start_time": "2022-07-20T13:58:24.656Z"
   },
   {
    "duration": 624,
    "start_time": "2022-07-20T13:58:30.129Z"
   },
   {
    "duration": 26,
    "start_time": "2022-07-20T13:58:30.756Z"
   },
   {
    "duration": 53,
    "start_time": "2022-07-20T13:58:30.783Z"
   },
   {
    "duration": 30,
    "start_time": "2022-07-20T13:58:30.839Z"
   },
   {
    "duration": 48,
    "start_time": "2022-07-20T13:58:30.871Z"
   },
   {
    "duration": 4,
    "start_time": "2022-07-20T13:58:30.921Z"
   },
   {
    "duration": 21,
    "start_time": "2022-07-20T13:58:30.927Z"
   },
   {
    "duration": 13,
    "start_time": "2022-07-20T13:58:30.954Z"
   },
   {
    "duration": 28,
    "start_time": "2022-07-20T13:58:30.969Z"
   },
   {
    "duration": 24,
    "start_time": "2022-07-20T13:58:31.002Z"
   },
   {
    "duration": 53,
    "start_time": "2022-07-20T13:58:31.029Z"
   },
   {
    "duration": 10,
    "start_time": "2022-07-20T13:58:31.084Z"
   },
   {
    "duration": 13,
    "start_time": "2022-07-20T13:58:31.096Z"
   },
   {
    "duration": 32,
    "start_time": "2022-07-20T13:58:31.111Z"
   },
   {
    "duration": 27,
    "start_time": "2022-07-20T13:58:31.145Z"
   },
   {
    "duration": 14,
    "start_time": "2022-07-20T13:58:31.174Z"
   },
   {
    "duration": 11,
    "start_time": "2022-07-20T13:58:31.190Z"
   },
   {
    "duration": 21,
    "start_time": "2022-07-20T13:58:31.203Z"
   },
   {
    "duration": 26,
    "start_time": "2022-07-20T13:58:31.225Z"
   },
   {
    "duration": 34,
    "start_time": "2022-07-20T13:58:31.253Z"
   },
   {
    "duration": 66,
    "start_time": "2022-07-20T13:58:31.289Z"
   },
   {
    "duration": 35,
    "start_time": "2022-07-20T13:58:31.356Z"
   },
   {
    "duration": 28,
    "start_time": "2022-07-20T13:58:31.393Z"
   },
   {
    "duration": 15,
    "start_time": "2022-07-20T13:58:31.422Z"
   },
   {
    "duration": 28,
    "start_time": "2022-07-20T13:58:31.438Z"
   },
   {
    "duration": 39,
    "start_time": "2022-07-20T13:58:31.468Z"
   },
   {
    "duration": 13,
    "start_time": "2022-07-20T13:58:31.509Z"
   },
   {
    "duration": 29,
    "start_time": "2022-07-20T13:58:31.525Z"
   },
   {
    "duration": 68,
    "start_time": "2022-07-20T13:58:31.557Z"
   },
   {
    "duration": 39,
    "start_time": "2022-07-20T14:00:17.827Z"
   },
   {
    "duration": 5,
    "start_time": "2022-07-20T14:00:41.273Z"
   },
   {
    "duration": 4,
    "start_time": "2022-07-20T14:01:47.859Z"
   },
   {
    "duration": 7,
    "start_time": "2022-07-20T14:01:59.154Z"
   },
   {
    "duration": 8,
    "start_time": "2022-07-20T14:02:13.559Z"
   },
   {
    "duration": 9,
    "start_time": "2022-07-20T14:02:41.389Z"
   },
   {
    "duration": 8,
    "start_time": "2022-07-20T14:03:12.463Z"
   },
   {
    "duration": 8,
    "start_time": "2022-07-20T14:03:56.001Z"
   },
   {
    "duration": 6,
    "start_time": "2022-07-20T14:04:12.657Z"
   },
   {
    "duration": 452,
    "start_time": "2022-07-20T16:41:21.884Z"
   },
   {
    "duration": 26,
    "start_time": "2022-07-20T16:41:22.338Z"
   },
   {
    "duration": 35,
    "start_time": "2022-07-20T16:41:22.366Z"
   },
   {
    "duration": 10,
    "start_time": "2022-07-20T16:41:22.403Z"
   },
   {
    "duration": 50,
    "start_time": "2022-07-20T16:41:22.415Z"
   },
   {
    "duration": 4,
    "start_time": "2022-07-20T16:41:22.467Z"
   },
   {
    "duration": 22,
    "start_time": "2022-07-20T16:41:22.473Z"
   },
   {
    "duration": 10,
    "start_time": "2022-07-20T16:41:22.497Z"
   },
   {
    "duration": 15,
    "start_time": "2022-07-20T16:41:22.509Z"
   },
   {
    "duration": 5,
    "start_time": "2022-07-20T16:41:22.526Z"
   },
   {
    "duration": 50,
    "start_time": "2022-07-20T16:41:22.532Z"
   },
   {
    "duration": 10,
    "start_time": "2022-07-20T16:41:22.584Z"
   },
   {
    "duration": 17,
    "start_time": "2022-07-20T16:41:22.596Z"
   },
   {
    "duration": 54,
    "start_time": "2022-07-20T16:41:22.615Z"
   },
   {
    "duration": 22,
    "start_time": "2022-07-20T16:41:22.670Z"
   },
   {
    "duration": 32,
    "start_time": "2022-07-20T16:41:22.694Z"
   },
   {
    "duration": 13,
    "start_time": "2022-07-20T16:41:22.728Z"
   },
   {
    "duration": 58,
    "start_time": "2022-07-20T16:41:22.742Z"
   },
   {
    "duration": 42,
    "start_time": "2022-07-20T16:41:22.802Z"
   },
   {
    "duration": 21,
    "start_time": "2022-07-20T16:41:22.845Z"
   },
   {
    "duration": 50,
    "start_time": "2022-07-20T16:41:22.869Z"
   },
   {
    "duration": 55,
    "start_time": "2022-07-20T16:41:22.920Z"
   },
   {
    "duration": 20,
    "start_time": "2022-07-20T16:41:22.978Z"
   },
   {
    "duration": 37,
    "start_time": "2022-07-20T16:41:23.000Z"
   },
   {
    "duration": 28,
    "start_time": "2022-07-20T16:41:23.039Z"
   },
   {
    "duration": 22,
    "start_time": "2022-07-20T16:41:23.072Z"
   },
   {
    "duration": 37,
    "start_time": "2022-07-20T16:41:23.096Z"
   },
   {
    "duration": 39,
    "start_time": "2022-07-20T16:41:23.135Z"
   }
  ],
  "celltoolbar": "Edit Metadata",
  "colab": {
   "name": "dpp_template_part2.ipynb",
   "provenance": []
  },
  "kernelspec": {
   "display_name": "Python 3 (ipykernel)",
   "language": "python",
   "name": "python3"
  },
  "language_info": {
   "codemirror_mode": {
    "name": "ipython",
    "version": 3
   },
   "file_extension": ".py",
   "mimetype": "text/x-python",
   "name": "python",
   "nbconvert_exporter": "python",
   "pygments_lexer": "ipython3",
   "version": "3.11.5"
  },
  "toc": {
   "base_numbering": 1,
   "nav_menu": {},
   "number_sections": true,
   "sideBar": true,
   "skip_h1_title": true,
   "title_cell": "Table of Contents",
   "title_sidebar": "Contents",
   "toc_cell": false,
   "toc_position": {},
   "toc_section_display": true,
   "toc_window_display": false
  }
 },
 "nbformat": 4,
 "nbformat_minor": 5
}
